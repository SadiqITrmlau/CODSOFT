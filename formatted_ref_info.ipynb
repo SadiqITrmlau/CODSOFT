{
  "cells": [
    {
      "cell_type": "markdown",
      "metadata": {
        "id": "view-in-github",
        "colab_type": "text"
      },
      "source": [
        "<a href=\"https://colab.research.google.com/github/SadiqITrmlau/CODSOFT/blob/main/formatted_ref_info.ipynb\" target=\"_parent\"><img src=\"https://colab.research.google.com/assets/colab-badge.svg\" alt=\"Open In Colab\"/></a>"
      ]
    },
    {
      "cell_type": "code",
      "execution_count": null,
      "metadata": {
        "id": "OJ2hg6IDsHQS",
        "outputId": "fbb815ce-d484-445b-fb23-47f8061e5d3d"
      },
      "outputs": [
        {
          "name": "stdout",
          "output_type": "stream",
          "text": [
            "Row 2 - Keys and Content in 'reference_information':\n",
            "\n",
            "Entry 1:\n",
            "  Description: Attractions in Las Vegas\n",
            "  Content: name subcategories visit_duration address latitude longitude website\n",
            "The Mob Museum ['Museums'] 3.0 300 Stewart Avenue, Las Vegas, NV 89101-2956 36.172817 -115.141235 http://themobmuseum.org\n",
            "Bellagio Conservatory & Botanical Garden ['Nature & Parks'] 4.5 3600 Las Vegas Blvd. S, Las Vegas, NV 89109 36.111984 -115.17658 https://www.bellagio.com/en/entertainment/conservatory-botanical-garden.html?icid=GMB_Entertainment_Conservatory\n",
            "High Roller ['Sights & Landmarks'] 3.0 3545 Las Vegas Blvd South The Linq Promenade, Las Vegas, NV 89109-8978 36.117764 -115.16821 http://www.caesars.com/linq/high-roller\n",
            "Stratosphere Tower ['Sights & Landmarks'] 3.0 2000 Las Vegas Blvd S Stratosphere Casino Hotel & Tower, Las Vegas, NV 89104-2507 36.147358 -115.15565 http://stratospherehotel.com/TowerExperience\n",
            "Red Rock Canyon National Conservation Area ['Nature & Parks'] 4.5 1000 Scenic Loop Dr, Las Vegas, NV 89161 36.1356 -115.427 http://www.redrockcanyonlv.org/\n",
            "Fremont Street Experience ['Sights & Landmarks'] 3.0 425 Fremont Street, Las Vegas, NV 89101-5620 36.170555 -115.14401 http://vegasexperience.com/viva-vision-light-show\n",
            "Eiffel Tower Viewing Deck ['Sights & Landmarks'] 3.0 3655 Las Vegas Blvd. South Paris Las Vegas, Las Vegas, NV 89109-4345 36.11251 -115.17236 http://www.caesars.com/paris-las-vegas/things-to-do/eiffel-tower?utm_campaign=yext&utm_source=yet&utm_medium=local&utm_term=PLV15&utm_content=attractions\n",
            "Pinball Hall Of Fame ['Museums'] 3.0 4925 Las Vegas Blvd S, Las Vegas, NV 89119-6550 36.084785 -115.17111 http://www.pinballmuseum.org\n",
            "Fountains of Bellagio ['Sights & Landmarks'] 3.0 3600 Las Vegas Blvd S Bellagio Hotel & Casino, Las Vegas, NV 89109-4303 36.11212 -115.174706 http://www.bellagio.com/en/entertainment/fountains-of-bellagio.html\n",
            "Welcome to Fabulous Las Vegas Sign ['Sights & Landmarks'] 3.0 5100 Las Vegas Blvd S, Las Vegas, NV 89119-3232 36.082073 -115.172775 \n",
            "The Grand Canal Shoppes at The Venetian Resort ['Shopping'] 1.5 3377 Las Vegas Blvd S Suite 2600, Las Vegas, NV 89109-8910 36.122715 -115.16892 http://www.grandcanalshoppes.com\n",
            "Titanic: The Artifact Exhibition ['Museums'] 3.0 3900 S Las Vegas Blvd, Las Vegas, NV 89119 36.095516 -115.17606 http://www.TitanicLasVegas.com\n",
            "Wynn Las Vegas Casino ['Casinos & Gambling', 'Fun & Games'] 2.0 3131 Las Vegas Blvd S, Las Vegas, NV 89109-1967 36.12612 -115.161934 http://www.wynnlasvegas.com/Casino\n",
            "The Neon Museum ['Museums'] 3.0 770 Las Vegas Blvd N, Las Vegas, NV 89101-2010 36.17701 -115.13534 http://www.NeonMuseum.org\n",
            "Fashion Show Las Vegas ['Shopping'] 1.5 3200 Las Vegas Blvd S Ste. 600, Las Vegas, NV 89109-2612 36.12764 -115.17304 http://www.fslv.com\n",
            "Las Vegas North Premium Outlets ['Shopping'] 1.5 875 South Grand Central Parkway, Las Vegas, NV 89106-4541 36.163654 -115.15775 http://www.premiumoutlets.com/outlet/las-vegas-north\n",
            "Hoover Dam Bypass ['Sights & Landmarks', 'Nature & Parks'] 3.75 U.S. Route 93, Las Vegas, NV 36.01248 -114.74202 http://www.usbr.gov/lc/hooverdam\n",
            "The LINQ Promenade ['Casinos & Gambling', 'Fun & Games'] 2.0 3535 Las Vegas Blvd S Between The LINQ Hotel & Casino and Flamingo Las Vegas, Las Vegas, NV 89109-8921 36.117783 -115.17258 https://www.caesars.com/linq\n",
            "The Las Vegas Strip ['Sights & Landmarks'] 3.0 S Las Vegas Blvd, Las Vegas, NV 89109 36.112858 -115.173 https://www.lasvegasnevada.gov/\n",
            "Zak Bagans' The Haunted Museum ['Museums'] 3.0 600 E Charleston Blvd, Las Vegas, NV 89104-1563 36.158356 -115.145706 https://thehauntedmuseum.com/\n",
            "\n",
            "Entry 2:\n",
            "  Description: Accommodations in Las Vegas\n",
            "  Content: name roomType pricing max_occupancy rating house_rules\n",
            "Room in Down Town Las Vegas. private_room N/A 2 N/A No smoking\n",
            "Luxury Suite Las Vegas entire_home N/A 10 5 No children under 10\n",
            "Hidden Oasis entire_home N/A 5 5 No parties\n",
            "Adorable Sendera Santa private_room N/A 2 4.94 No pets\n",
            "Clean Cozy Room w/att'd Private Bath private_room N/A 2 4.97 No smoking & No children under 10\n",
            "Super cozy brand new furnished private room! 2 private_room N/A 2 4.98 No parties\n",
            "C/private full bed tv free wif private_room N/A 2 4.93 No visitors\n",
            "Private Room Next to Strip private_room N/A 2 4.98 No parties\n",
            "Casita in the Sun entire_home N/A 8 5 No smoking\n",
            "MGM Signature-17-803 F1 Track & Strip View Studio entire_home $144 4 N/A No pets\n",
            "Stylish Stays in LV, Two KG Beds, Pups, great yard entire_home $251 6 4.99 No smoking\n",
            "MGM Grand! Vegas Strip 16th Floor Renovated Suite entire_home $175 9 4.94 No visitors\n",
            "Private Cozy Room with own entrance and pool . private_room N/A 1 4.79 No children under 10\n",
            "Vdara Studio 52nd FL Bellagio Ftns NO RESORT FEES entire_home $235 11 4.94 No smoking\n",
            "Our lovely master bedroom private_room N/A 2 5 No smoking\n",
            "Studio 100% Private-Just 10 min. to Strip entire_home $101 4 4.85 No visitors & No parties\n",
            "Gamble Adventure | Restaurant. Outside Pool entire_home N/A 3 4.33 No pets\n",
            "Luxury Suite - Balcony & Las Vegas Strip Views! entire_home $144 11 4.95 No pets\n",
            "Renovated Luxury Studio Suite in Tower 3 entire_home N/A 3 4.93 No pets\n",
            "Cozy Casita+Private Patio+grill entire_home $124 9 4.98 No visitors\n",
            "\n",
            "Entry 3:\n",
            "  Description: Restaurants in Las Vegas\n",
            "  Content: name cuisines avg_cost rating\n",
            "John Mull's Meats & Road Kill Grill ['American', 'Barbecue'] 37.5 4.5\n",
            "Lemongrass ['Asian', 'Thai'] 37.5 4.0\n",
            "Ping Pang Pong ['Chinese', 'Asian', 'Cantonese', 'Hong Kong'] 37.5 4.0\n",
            "Nora's Italian Cuisine ['Italian', 'Pizza', 'Sicilian'] 37.5 4.5\n",
            "Gordon Ramsay Burger ['American', 'Bar'] 37.5 4.0\n",
            "Blossom ['Chinese', 'Asian', 'Cantonese', 'Szechuan', 'Hong Kong'] 60.0 4.5\n",
            "Sw Steakhouse ['American', 'Steakhouse'] 60.0 4.5\n",
            "Gordon Ramsay Pub & Grill ['American', 'Bar', 'British', 'Pub'] 37.5 3.5\n",
            "The Mayfair Supper Club ['American'] 60.0 4.0\n",
            "Water Grill Las Vegas ['Seafood', 'Sushi'] 37.5 4.5\n",
            "THE Steak House ['American', 'Steakhouse'] 60.0 4.5\n",
            "Mon Ami Gabi ['French', 'European'] 37.5 4.5\n",
            "Din Tai Fung ['Chinese', 'Japanese', 'Asian', 'Thai', 'Korean', 'Vietnamese', 'Taiwanese', 'Shanghai'] 37.5 4.5\n",
            "Ameribrunch Cafe ['American', 'Cafe', 'Healthy'] 21.77 4.5\n",
            "The Peppermill Restaurant & Fireside Lounge ['American', 'Bar', 'Diner'] 37.5 4.5\n",
            "Kabuto ['Japanese', 'Seafood', 'Sushi', 'Asian'] 60.0 5.0\n",
            "Cafe Berlin ['German', 'European', 'Central European'] 37.5 4.5\n",
            "Grand Lux Cafe ['American'] 37.5 4.5\n",
            "Eggslut ['American', 'Fast Food'] 21.77 4.0\n",
            "Triple George Grill ['American', 'Steakhouse', 'Seafood', 'Contemporary'] 37.5 4.5\n",
            "Mercato Della Pescheria Las Vegas ['Italian', 'Seafood'] 37.5 4.5\n",
            "Mr. Mamas ['American'] 21.77 4.5\n",
            "Hash House a Go Go ['Contemporary'] 37.5 4.5\n",
            "PRIME Steakhouse ['Steakhouse'] 60.0 4.5\n",
            "Skyfall Lounge ['American', 'Bar'] 37.5 4.5\n",
            "Eiffel Tower Restaurant ['French', 'Bar', 'Contemporary'] 60.0 4.5\n",
            "Garden Court ['American', 'International'] 21.77 4.0\n",
            "Carmine's ['Italian'] 37.5 4.5\n",
            "Primal Steakhouse ['Steakhouse'] 60.0 5.0\n",
            "Top of the World ['American', 'Steakhouse', 'Seafood', 'International'] 60.0 4.5\n",
            "Eggscellent ['American', 'Grill', 'Healthy'] 21.77 5.0\n",
            "Firefly Tapas Kitchen & Bar ['Spanish'] 37.5 4.5\n",
            "Vic & Anthony's Steakhouse ['Steakhouse', 'Seafood'] 60.0 4.5\n",
            "Golden Steer Steakhouse Las Vegas ['Steakhouse'] 60.0 4.5\n",
            "Gordon Ramsay Hell's Kitchen ['American'] 60.0 4.0\n",
            "\n",
            "Entry 4:\n",
            "  Description: Nearest Public Transit Stop from Point of Interest\n",
            "  Content: PoI nearest_stop_name nearest_stop_latitude nearest_stop_longitude nearest_stop_distance\n",
            "The Mob Museum Mob Museum 36.172476301583686 -115.14156621774502 48.14\n",
            "Bellagio Conservatory & Botanical Garden The Strat 36.14783250216431 -115.157172813709 4344.51\n",
            "High Roller The Strat 36.14783250216431 -115.157172813709 3481.22\n",
            "Stratosphere Tower The Strat 36.14783250216431 -115.157172813709 146.81\n",
            "Red Rock Canyon National Conservation Area The Strat 36.14783250216431 -115.157172813709 24322.91\n",
            "Fremont Street Experience Circa 36.17262843168905 -115.14440678452144 232.83\n",
            "Eiffel Tower Viewing Deck The Strat 36.14783250216431 -115.157172813709 4151.01\n",
            "Pinball Hall Of Fame The Strat 36.14783250216431 -115.157172813709 7107.46\n",
            "Fountains of Bellagio The Strat 36.14783250216431 -115.157172813709 4265.44\n",
            "Welcome to Fabulous Las Vegas Sign The Strat 36.14783250216431 -115.157172813709 7430.73\n",
            "The Grand Canal Shoppes at The Venetian Resort The Strat 36.14783250216431 -115.157172813709 2980.91\n",
            "Titanic: The Artifact Exhibition The Strat 36.14783250216431 -115.157172813709 6048.99\n",
            "Wynn Las Vegas Casino The Strat 36.14783250216431 -115.157172813709 2447.07\n",
            "The Neon Museum Mob Museum 36.172476301583686 -115.14156621774502 752.88\n",
            "Fashion Show Las Vegas The Strat 36.14783250216431 -115.157172813709 2657.04\n",
            "Las Vegas North Premium Outlets Las Vegas North Premium Outlets 36.16338682940504 -115.1569960263454 74.04\n",
            "Hoover Dam Bypass Fremont East Entertainment District 36.168921 -115.13942 39777.46\n",
            "The LINQ Promenade The Strat 36.14783250216431 -115.157172813709 3611.25\n",
            "The Las Vegas Strip The Strat 36.14783250216431 -115.157172813709 4134.07\n",
            "Zak Bagans' The Haunted Museum Pawn Plaza 36.162039161217066 -115.14553020748652 409.00\n",
            "John Mull's Meats & Road Kill Grill Symphony Park 36.16941281300902 -115.15256036295146 8322.69\n",
            "Lemongrass The Strat 36.14783250216431 -115.157172813709 4819.75\n",
            "Ping Pang Pong The Strat 36.14783250216431 -115.157172813709 4724.71\n",
            "Nora's Italian Cuisine The Strat 36.14783250216431 -115.157172813709 6762.82\n",
            "Gordon Ramsay Burger The Strat 36.14783250216431 -115.157172813709 4292.75\n",
            "Blossom The Strat 36.14783250216431 -115.157172813709 4819.75\n",
            "Sw Steakhouse The Strat 36.14783250216431 -115.157172813709 2548.07\n",
            "Gordon Ramsay Pub & Grill The Strat 36.14783250216431 -115.157172813709 3768.48\n",
            "The Mayfair Supper Club The Strat 36.14783250216431 -115.157172813709 4225.93\n",
            "Water Grill Las Vegas The Strat 36.14783250216431 -115.157172813709 3637.97\n",
            "THE Steak House The Strat 36.14783250216431 -115.157172813709 1363.88\n",
            "Mon Ami Gabi The Strat 36.14783250216431 -115.157172813709 4118.11\n",
            "Din Tai Fung The Strat 36.14783250216431 -115.157172813709 4901.50\n",
            "Ameribrunch Cafe Fremont East Entertainment District 36.168921 -115.13942 393.75\n",
            "The Peppermill Restaurant & Fireside Lounge The Strat 36.14783250216431 -115.157172813709 1656.61\n",
            "Kabuto The Strat 36.14783250216431 -115.157172813709 5300.92\n",
            "Cafe Berlin The Strat 36.14783250216431 -115.157172813709 9497.62\n",
            "Grand Lux Cafe The Strat 36.14783250216431 -115.157172813709 2716.09\n",
            "Eggslut The Strat 36.14783250216431 -115.157172813709 4473.66\n",
            "Triple George Grill Mob Museum 36.172476301583686 -115.14156621774502 87.09\n",
            "Mercato Della Pescheria Las Vegas The Strat 36.14783250216431 -115.157172813709 2970.27\n",
            "Mr. Mamas The Strat 36.14783250216431 -115.157172813709 9224.85\n",
            "Hash House a Go Go The Strat 36.14783250216431 -115.157172813709 3519.43\n",
            "PRIME Steakhouse The Strat 36.14783250216431 -115.157172813709 4188.61\n",
            "Skyfall Lounge The Strat 36.14783250216431 -115.157172813709 6368.08\n",
            "Eiffel Tower Restaurant The Strat 36.14783250216431 -115.157172813709 4101.83\n",
            "Garden Court Circa 36.17262843168905 -115.14440678452144 185.80\n",
            "Carmine's The Strat 36.14783250216431 -115.157172813709 3610.12\n",
            "Primal Steakhouse The Strat 36.14783250216431 -115.157172813709 3264.11\n",
            "Top of the World The Strat 36.14783250216431 -115.157172813709 140.60\n",
            "Eggscellent The Strat 36.14783250216431 -115.157172813709 4208.46\n",
            "Firefly Tapas Kitchen & Bar The Strat 36.14783250216431 -115.157172813709 3079.37\n",
            "Vic & Anthony's Steakhouse Fremont Street Experience 36.1717381202443 -115.14623386102312 213.11\n",
            "Golden Steer Steakhouse Las Vegas The Strat 36.14783250216431 -115.157172813709 555.77\n",
            "Gordon Ramsay Hell's Kitchen The Strat 36.14783250216431 -115.157172813709 3843.18\n",
            "Room in Down Town Las Vegas. Fremont East Entertainment District 36.168921 -115.13942 1810.60\n",
            "Luxury Suite Las Vegas Fremont East Entertainment District 36.168921 -115.13942 5075.72\n",
            "Hidden Oasis The Strat 36.14783250216431 -115.157172813709 8594.91\n",
            "Adorable Sendera Santa The Strat 36.14783250216431 -115.157172813709 11681.92\n",
            "Clean Cozy Room w/att'd Private Bath The Strat 36.14783250216431 -115.157172813709 11509.56\n",
            "Super cozy brand new furnished private room! 2 The Strat 36.14783250216431 -115.157172813709 5032.45\n",
            "C/private full bed tv free wif The Strat 36.14783250216431 -115.157172813709 4542.98\n",
            "Private Room Next to Strip The Strat 36.14783250216431 -115.157172813709 1578.93\n",
            "Casita in the Sun The Strat 36.14783250216431 -115.157172813709 16962.70\n",
            "MGM Signature-17-803 F1 Track & Strip View Studio The Strat 36.14783250216431 -115.157172813709 4553.09\n",
            "Stylish Stays in LV, Two KG Beds, Pups, great yard Las Vegas North Premium Outlets 36.16338682940504 -115.1569960263454 10915.84\n",
            "MGM Grand! Vegas Strip 16th Floor Renovated Suite The Strat 36.14783250216431 -115.157172813709 4676.22\n",
            "Private Cozy Room with own entrance and pool . The Strat 36.14783250216431 -115.157172813709 8199.37\n",
            "Vdara Studio 52nd FL Bellagio Ftns NO RESORT FEES The Strat 36.14783250216431 -115.157172813709 4648.68\n",
            "Our lovely master bedroom The Strat 36.14783250216431 -115.157172813709 4695.90\n",
            "Studio 100% Private-Just 10 min. to Strip The Strat 36.14783250216431 -115.157172813709 3652.49\n",
            "Gamble Adventure | Restaurant. Outside Pool The Strat 36.14783250216431 -115.157172813709 5367.88\n",
            "Luxury Suite - Balcony & Las Vegas Strip Views! The Strat 36.14783250216431 -115.157172813709 4778.06\n",
            "Renovated Luxury Studio Suite in Tower 3 The Strat 36.14783250216431 -115.157172813709 4591.41\n",
            "Cozy Casita+Private Patio+grill Las Vegas North Premium Outlets 36.16338682940504 -115.1569960263454 4197.80\n",
            "\n",
            "Entry 5:\n",
            "  Description: Events within 2024-11-13 and 2024-11-15\n",
            "  Content: name segmentName streetAddress dateTitle url\n",
            "\n",
            "\n",
            "Entry 6:\n",
            "  Description: Flight from Washington to Las Vegas on 2024-11-13\n",
            "  Content: Flight Number Price DepTime ArrTime ActualElapsedTime Distance\n",
            "F0229371 873 09:06 12:03 5 hours 57 minutes 2089.0\n",
            "F0524652 789 22:25 00:24 4 hours 59 minutes 2065.0\n",
            "F0525283 1022 08:18 11:05 5 hours 47 minutes 2065.0\n",
            "F0525297 886 20:05 22:05 5 hours 0 minutes 2065.0\n",
            "F0774013 424 08:53 11:23 5 hours 30 minutes 2089.0\n",
            "F1082289 923 18:26 20:24 4 hours 58 minutes 2065.0\n",
            "F1210060 582 08:45 10:34 4 hours 49 minutes 2065.0\n",
            "F1210071 638 18:28 20:16 4 hours 48 minutes 2065.0\n",
            "F1501198 774 08:13 09:56 4 hours 43 minutes 2089.0\n",
            "F1825332 808 17:23 19:31 5 hours 8 minutes 2065.0\n",
            "F1954242 957 08:25 10:15 4 hours 50 minutes 2089.0\n",
            "F2414369 933 08:22 10:08 4 hours 46 minutes 2065.0\n",
            "F2414383 560 17:38 19:27 4 hours 49 minutes 2065.0\n",
            "F2861265 559 08:00 09:49 4 hours 49 minutes 2089.0\n",
            "F3284423 764 10:01 12:11 5 hours 10 minutes 2089.0\n",
            "F3456992 870 10:30 12:19 4 hours 49 minutes 2065.0\n",
            "F3457962 989 17:43 19:57 5 hours 14 minutes 2065.0\n",
            "F3721420 704 10:19 12:14 4 hours 55 minutes 2089.0\n",
            "\n",
            "Entry 7:\n",
            "  Description: Self-driving from Washington to Las Vegas\n",
            "  Content: Not feasible to drive from Washington to Las Vegas\n",
            "\n",
            "Entry 8:\n",
            "  Description: Taxi from Washington to Las Vegas\n",
            "  Content: Not feasible to drive from Washington to Las Vegas\n",
            "\n",
            "Entry 9:\n",
            "  Description: Flight from Las Vegas to Washington on 2024-11-15\n",
            "  Content: Flight Number Price DepTime ArrTime ActualElapsedTime Distance\n",
            "F0171913 591 13:17 20:23 4 hours 6 minutes 2089.0\n",
            "F0561764 844 00:07 07:07 4 hours 0 minutes 2065.0\n",
            "F0562036 626 13:12 20:23 4 hours 11 minutes 2065.0\n",
            "F0562603 897 21:40 04:34 3 hours 54 minutes 2065.0\n",
            "F0754445 989 14:33 21:56 4 hours 23 minutes 2089.0\n",
            "F1077888 639 08:44 15:52 4 hours 8 minutes 2065.0\n",
            "F1078549 474 13:42 20:49 4 hours 7 minutes 2065.0\n",
            "F1205378 552 23:46 07:28 4 hours 42 minutes 2065.0\n",
            "F1205682 509 13:26 20:59 4 hours 33 minutes 2065.0\n",
            "F1432770 1000 13:08 20:47 4 hours 39 minutes 2089.0\n",
            "F1821025 808 23:51 07:06 4 hours 15 minutes 2065.0\n",
            "F1896793 947 13:09 20:55 4 hours 46 minutes 2089.0\n",
            "F2456042 860 23:28 06:44 4 hours 16 minutes 2065.0\n",
            "F2456340 877 13:12 20:35 4 hours 23 minutes 2065.0\n",
            "F2819691 985 14:59 22:34 4 hours 35 minutes 2089.0\n",
            "F3267718 684 14:26 21:53 4 hours 27 minutes 2089.0\n",
            "F3454196 802 08:07 15:21 4 hours 14 minutes 2065.0\n",
            "F3698465 483 14:13 21:46 4 hours 33 minutes 2089.0\n",
            "F3913378 595 13:41 20:54 4 hours 13 minutes 2065.0\n",
            "\n",
            "Entry 10:\n",
            "  Description: Self-driving from Las Vegas to Washington\n",
            "  Content: Not feasible to drive from Las Vegas to Washington\n",
            "\n",
            "Entry 11:\n",
            "  Description: Taxi from Las Vegas to Washington\n",
            "  Content: Not feasible to drive from Las Vegas to Washington\n"
          ]
        }
      ],
      "source": [
        "import pandas as pd\n",
        "import json\n",
        "\n",
        "# Load the CSV file\n",
        "file_path = \"modified_sample_54_UHRS_with_persona.csv\"  # Update with the correct path if needed\n",
        "df = pd.read_csv(file_path)\n",
        "\n",
        "# Hardcoded row number (0-indexed)\n",
        "row_number = 2  # Change this to the desired row number\n",
        "\n",
        "# Extract the reference_information column for the specified row\n",
        "try:\n",
        "    reference_data = df.loc[row_number, \"reference_information\"]\n",
        "\n",
        "    # Parse the JSON string into a Python object (list of dictionaries)\n",
        "    parsed_data = json.loads(reference_data)\n",
        "\n",
        "    # Ensure the data is a list of dictionaries\n",
        "    if isinstance(parsed_data, list) and all(isinstance(d, dict) for d in parsed_data):\n",
        "        print(f\"Row {row_number} - Keys and Content in 'reference_information':\")\n",
        "        for idx, dictionary in enumerate(parsed_data):\n",
        "            print(f\"\\nEntry {idx + 1}:\")\n",
        "            for key, value in dictionary.items():\n",
        "                print(f\"  {key}: {value}\")\n",
        "    else:\n",
        "        print(f\"Row {row_number} - Data in 'reference_information' is not a list of dictionaries.\")\n",
        "except KeyError:\n",
        "    print(\"Column 'reference_information' does not exist in the file.\")\n",
        "except IndexError:\n",
        "    print(f\"Row {row_number} does not exist in the file.\")\n",
        "except json.JSONDecodeError:\n",
        "    print(f\"Row {row_number} - 'reference_information' column is not a valid JSON string.\")"
      ]
    },
    {
      "cell_type": "code",
      "source": [
        "import spacy"
      ],
      "metadata": {
        "id": "yjZOSWxnsyLO"
      },
      "execution_count": 4,
      "outputs": []
    },
    {
      "cell_type": "code",
      "source": [
        "!python -m spacy download en_core_web_md"
      ],
      "metadata": {
        "colab": {
          "base_uri": "https://localhost:8080/"
        },
        "id": "hLtH1dvis1kp",
        "outputId": "1b5505ed-bca2-4264-dec9-e277951f8ca2"
      },
      "execution_count": 6,
      "outputs": [
        {
          "output_type": "stream",
          "name": "stdout",
          "text": [
            "Collecting en-core-web-md==3.7.1\n",
            "  Downloading https://github.com/explosion/spacy-models/releases/download/en_core_web_md-3.7.1/en_core_web_md-3.7.1-py3-none-any.whl (42.8 MB)\n",
            "\u001b[2K     \u001b[90m━━━━━━━━━━━━━━━━━━━━━━━━━━━━━━━━━━━━━━━━\u001b[0m \u001b[32m42.8/42.8 MB\u001b[0m \u001b[31m18.9 MB/s\u001b[0m eta \u001b[36m0:00:00\u001b[0m\n",
            "\u001b[?25hRequirement already satisfied: spacy<3.8.0,>=3.7.2 in /usr/local/lib/python3.10/dist-packages (from en-core-web-md==3.7.1) (3.7.5)\n",
            "Requirement already satisfied: spacy-legacy<3.1.0,>=3.0.11 in /usr/local/lib/python3.10/dist-packages (from spacy<3.8.0,>=3.7.2->en-core-web-md==3.7.1) (3.0.12)\n",
            "Requirement already satisfied: spacy-loggers<2.0.0,>=1.0.0 in /usr/local/lib/python3.10/dist-packages (from spacy<3.8.0,>=3.7.2->en-core-web-md==3.7.1) (1.0.5)\n",
            "Requirement already satisfied: murmurhash<1.1.0,>=0.28.0 in /usr/local/lib/python3.10/dist-packages (from spacy<3.8.0,>=3.7.2->en-core-web-md==3.7.1) (1.0.11)\n",
            "Requirement already satisfied: cymem<2.1.0,>=2.0.2 in /usr/local/lib/python3.10/dist-packages (from spacy<3.8.0,>=3.7.2->en-core-web-md==3.7.1) (2.0.10)\n",
            "Requirement already satisfied: preshed<3.1.0,>=3.0.2 in /usr/local/lib/python3.10/dist-packages (from spacy<3.8.0,>=3.7.2->en-core-web-md==3.7.1) (3.0.9)\n",
            "Requirement already satisfied: thinc<8.3.0,>=8.2.2 in /usr/local/lib/python3.10/dist-packages (from spacy<3.8.0,>=3.7.2->en-core-web-md==3.7.1) (8.2.5)\n",
            "Requirement already satisfied: wasabi<1.2.0,>=0.9.1 in /usr/local/lib/python3.10/dist-packages (from spacy<3.8.0,>=3.7.2->en-core-web-md==3.7.1) (1.1.3)\n",
            "Requirement already satisfied: srsly<3.0.0,>=2.4.3 in /usr/local/lib/python3.10/dist-packages (from spacy<3.8.0,>=3.7.2->en-core-web-md==3.7.1) (2.4.8)\n",
            "Requirement already satisfied: catalogue<2.1.0,>=2.0.6 in /usr/local/lib/python3.10/dist-packages (from spacy<3.8.0,>=3.7.2->en-core-web-md==3.7.1) (2.0.10)\n",
            "Requirement already satisfied: weasel<0.5.0,>=0.1.0 in /usr/local/lib/python3.10/dist-packages (from spacy<3.8.0,>=3.7.2->en-core-web-md==3.7.1) (0.4.1)\n",
            "Requirement already satisfied: typer<1.0.0,>=0.3.0 in /usr/local/lib/python3.10/dist-packages (from spacy<3.8.0,>=3.7.2->en-core-web-md==3.7.1) (0.15.0)\n",
            "Requirement already satisfied: tqdm<5.0.0,>=4.38.0 in /usr/local/lib/python3.10/dist-packages (from spacy<3.8.0,>=3.7.2->en-core-web-md==3.7.1) (4.66.6)\n",
            "Requirement already satisfied: requests<3.0.0,>=2.13.0 in /usr/local/lib/python3.10/dist-packages (from spacy<3.8.0,>=3.7.2->en-core-web-md==3.7.1) (2.32.3)\n",
            "Requirement already satisfied: pydantic!=1.8,!=1.8.1,<3.0.0,>=1.7.4 in /usr/local/lib/python3.10/dist-packages (from spacy<3.8.0,>=3.7.2->en-core-web-md==3.7.1) (2.10.3)\n",
            "Requirement already satisfied: jinja2 in /usr/local/lib/python3.10/dist-packages (from spacy<3.8.0,>=3.7.2->en-core-web-md==3.7.1) (3.1.4)\n",
            "Requirement already satisfied: setuptools in /usr/local/lib/python3.10/dist-packages (from spacy<3.8.0,>=3.7.2->en-core-web-md==3.7.1) (75.1.0)\n",
            "Requirement already satisfied: packaging>=20.0 in /usr/local/lib/python3.10/dist-packages (from spacy<3.8.0,>=3.7.2->en-core-web-md==3.7.1) (24.2)\n",
            "Requirement already satisfied: langcodes<4.0.0,>=3.2.0 in /usr/local/lib/python3.10/dist-packages (from spacy<3.8.0,>=3.7.2->en-core-web-md==3.7.1) (3.5.0)\n",
            "Requirement already satisfied: numpy>=1.19.0 in /usr/local/lib/python3.10/dist-packages (from spacy<3.8.0,>=3.7.2->en-core-web-md==3.7.1) (1.26.4)\n",
            "Requirement already satisfied: language-data>=1.2 in /usr/local/lib/python3.10/dist-packages (from langcodes<4.0.0,>=3.2.0->spacy<3.8.0,>=3.7.2->en-core-web-md==3.7.1) (1.3.0)\n",
            "Requirement already satisfied: annotated-types>=0.6.0 in /usr/local/lib/python3.10/dist-packages (from pydantic!=1.8,!=1.8.1,<3.0.0,>=1.7.4->spacy<3.8.0,>=3.7.2->en-core-web-md==3.7.1) (0.7.0)\n",
            "Requirement already satisfied: pydantic-core==2.27.1 in /usr/local/lib/python3.10/dist-packages (from pydantic!=1.8,!=1.8.1,<3.0.0,>=1.7.4->spacy<3.8.0,>=3.7.2->en-core-web-md==3.7.1) (2.27.1)\n",
            "Requirement already satisfied: typing-extensions>=4.12.2 in /usr/local/lib/python3.10/dist-packages (from pydantic!=1.8,!=1.8.1,<3.0.0,>=1.7.4->spacy<3.8.0,>=3.7.2->en-core-web-md==3.7.1) (4.12.2)\n",
            "Requirement already satisfied: charset-normalizer<4,>=2 in /usr/local/lib/python3.10/dist-packages (from requests<3.0.0,>=2.13.0->spacy<3.8.0,>=3.7.2->en-core-web-md==3.7.1) (3.4.0)\n",
            "Requirement already satisfied: idna<4,>=2.5 in /usr/local/lib/python3.10/dist-packages (from requests<3.0.0,>=2.13.0->spacy<3.8.0,>=3.7.2->en-core-web-md==3.7.1) (3.10)\n",
            "Requirement already satisfied: urllib3<3,>=1.21.1 in /usr/local/lib/python3.10/dist-packages (from requests<3.0.0,>=2.13.0->spacy<3.8.0,>=3.7.2->en-core-web-md==3.7.1) (2.2.3)\n",
            "Requirement already satisfied: certifi>=2017.4.17 in /usr/local/lib/python3.10/dist-packages (from requests<3.0.0,>=2.13.0->spacy<3.8.0,>=3.7.2->en-core-web-md==3.7.1) (2024.8.30)\n",
            "Requirement already satisfied: blis<0.8.0,>=0.7.8 in /usr/local/lib/python3.10/dist-packages (from thinc<8.3.0,>=8.2.2->spacy<3.8.0,>=3.7.2->en-core-web-md==3.7.1) (0.7.11)\n",
            "Requirement already satisfied: confection<1.0.0,>=0.0.1 in /usr/local/lib/python3.10/dist-packages (from thinc<8.3.0,>=8.2.2->spacy<3.8.0,>=3.7.2->en-core-web-md==3.7.1) (0.1.5)\n",
            "Requirement already satisfied: click>=8.0.0 in /usr/local/lib/python3.10/dist-packages (from typer<1.0.0,>=0.3.0->spacy<3.8.0,>=3.7.2->en-core-web-md==3.7.1) (8.1.7)\n",
            "Requirement already satisfied: shellingham>=1.3.0 in /usr/local/lib/python3.10/dist-packages (from typer<1.0.0,>=0.3.0->spacy<3.8.0,>=3.7.2->en-core-web-md==3.7.1) (1.5.4)\n",
            "Requirement already satisfied: rich>=10.11.0 in /usr/local/lib/python3.10/dist-packages (from typer<1.0.0,>=0.3.0->spacy<3.8.0,>=3.7.2->en-core-web-md==3.7.1) (13.9.4)\n",
            "Requirement already satisfied: cloudpathlib<1.0.0,>=0.7.0 in /usr/local/lib/python3.10/dist-packages (from weasel<0.5.0,>=0.1.0->spacy<3.8.0,>=3.7.2->en-core-web-md==3.7.1) (0.20.0)\n",
            "Requirement already satisfied: smart-open<8.0.0,>=5.2.1 in /usr/local/lib/python3.10/dist-packages (from weasel<0.5.0,>=0.1.0->spacy<3.8.0,>=3.7.2->en-core-web-md==3.7.1) (7.0.5)\n",
            "Requirement already satisfied: MarkupSafe>=2.0 in /usr/local/lib/python3.10/dist-packages (from jinja2->spacy<3.8.0,>=3.7.2->en-core-web-md==3.7.1) (3.0.2)\n",
            "Requirement already satisfied: marisa-trie>=1.1.0 in /usr/local/lib/python3.10/dist-packages (from language-data>=1.2->langcodes<4.0.0,>=3.2.0->spacy<3.8.0,>=3.7.2->en-core-web-md==3.7.1) (1.2.1)\n",
            "Requirement already satisfied: markdown-it-py>=2.2.0 in /usr/local/lib/python3.10/dist-packages (from rich>=10.11.0->typer<1.0.0,>=0.3.0->spacy<3.8.0,>=3.7.2->en-core-web-md==3.7.1) (3.0.0)\n",
            "Requirement already satisfied: pygments<3.0.0,>=2.13.0 in /usr/local/lib/python3.10/dist-packages (from rich>=10.11.0->typer<1.0.0,>=0.3.0->spacy<3.8.0,>=3.7.2->en-core-web-md==3.7.1) (2.18.0)\n",
            "Requirement already satisfied: wrapt in /usr/local/lib/python3.10/dist-packages (from smart-open<8.0.0,>=5.2.1->weasel<0.5.0,>=0.1.0->spacy<3.8.0,>=3.7.2->en-core-web-md==3.7.1) (1.17.0)\n",
            "Requirement already satisfied: mdurl~=0.1 in /usr/local/lib/python3.10/dist-packages (from markdown-it-py>=2.2.0->rich>=10.11.0->typer<1.0.0,>=0.3.0->spacy<3.8.0,>=3.7.2->en-core-web-md==3.7.1) (0.1.2)\n",
            "Installing collected packages: en-core-web-md\n",
            "Successfully installed en-core-web-md-3.7.1\n",
            "\u001b[38;5;2m✔ Download and installation successful\u001b[0m\n",
            "You can now load the package via spacy.load('en_core_web_md')\n",
            "\u001b[38;5;3m⚠ Restart to reload dependencies\u001b[0m\n",
            "If you are in a Jupyter or Colab notebook, you may need to restart Python in\n",
            "order to load all the package's dependencies. You can do this by selecting the\n",
            "'Restart kernel' or 'Restart runtime' option.\n"
          ]
        }
      ]
    },
    {
      "cell_type": "code",
      "source": [
        "nlp = spacy.load(en_core_web_md)\n",
        "nlp"
      ],
      "metadata": {
        "colab": {
          "base_uri": "https://localhost:8080/",
          "height": 164
        },
        "id": "z4br1sTWtRlV",
        "outputId": "7573ee8e-b2a6-4274-db1b-ef5a00d50189"
      },
      "execution_count": 1,
      "outputs": [
        {
          "output_type": "error",
          "ename": "NameError",
          "evalue": "name 'spacy' is not defined",
          "traceback": [
            "\u001b[0;31m---------------------------------------------------------------------------\u001b[0m",
            "\u001b[0;31mNameError\u001b[0m                                 Traceback (most recent call last)",
            "\u001b[0;32m<ipython-input-1-fd375fddc7ce>\u001b[0m in \u001b[0;36m<cell line: 1>\u001b[0;34m()\u001b[0m\n\u001b[0;32m----> 1\u001b[0;31m \u001b[0mnlp\u001b[0m \u001b[0;34m=\u001b[0m \u001b[0mspacy\u001b[0m\u001b[0;34m.\u001b[0m\u001b[0mload\u001b[0m\u001b[0;34m(\u001b[0m\u001b[0men_core_web_md\u001b[0m\u001b[0;34m)\u001b[0m\u001b[0;34m\u001b[0m\u001b[0;34m\u001b[0m\u001b[0m\n\u001b[0m\u001b[1;32m      2\u001b[0m \u001b[0mnlp\u001b[0m\u001b[0;34m\u001b[0m\u001b[0;34m\u001b[0m\u001b[0m\n",
            "\u001b[0;31mNameError\u001b[0m: name 'spacy' is not defined"
          ]
        }
      ]
    },
    {
      "cell_type": "code",
      "source": [
        "import spacy"
      ],
      "metadata": {
        "id": "D5SaYn5-uPGW"
      },
      "execution_count": 2,
      "outputs": []
    },
    {
      "cell_type": "code",
      "source": [
        "nlp = spacy.load(en_core_web_md)\n",
        "nlp"
      ],
      "metadata": {
        "colab": {
          "base_uri": "https://localhost:8080/",
          "height": 164
        },
        "id": "S_SGdupxuUuz",
        "outputId": "5c08a29c-96df-4526-a084-5c515c6e22f8"
      },
      "execution_count": 3,
      "outputs": [
        {
          "output_type": "error",
          "ename": "NameError",
          "evalue": "name 'en_core_web_md' is not defined",
          "traceback": [
            "\u001b[0;31m---------------------------------------------------------------------------\u001b[0m",
            "\u001b[0;31mNameError\u001b[0m                                 Traceback (most recent call last)",
            "\u001b[0;32m<ipython-input-3-fd375fddc7ce>\u001b[0m in \u001b[0;36m<cell line: 1>\u001b[0;34m()\u001b[0m\n\u001b[0;32m----> 1\u001b[0;31m \u001b[0mnlp\u001b[0m \u001b[0;34m=\u001b[0m \u001b[0mspacy\u001b[0m\u001b[0;34m.\u001b[0m\u001b[0mload\u001b[0m\u001b[0;34m(\u001b[0m\u001b[0men_core_web_md\u001b[0m\u001b[0;34m)\u001b[0m\u001b[0;34m\u001b[0m\u001b[0;34m\u001b[0m\u001b[0m\n\u001b[0m\u001b[1;32m      2\u001b[0m \u001b[0mnlp\u001b[0m\u001b[0;34m\u001b[0m\u001b[0;34m\u001b[0m\u001b[0m\n",
            "\u001b[0;31mNameError\u001b[0m: name 'en_core_web_md' is not defined"
          ]
        }
      ]
    },
    {
      "cell_type": "code",
      "source": [
        "nlp = spacy.load(\"en_core_web_md\")\n",
        "nlp"
      ],
      "metadata": {
        "colab": {
          "base_uri": "https://localhost:8080/"
        },
        "id": "kv2x_hDIuXBC",
        "outputId": "fb67adab-aaf4-42ee-9ac4-64df5af4330f"
      },
      "execution_count": 4,
      "outputs": [
        {
          "output_type": "execute_result",
          "data": {
            "text/plain": [
              "<spacy.lang.en.English at 0x7fc79428a6e0>"
            ]
          },
          "metadata": {},
          "execution_count": 4
        }
      ]
    },
    {
      "cell_type": "code",
      "source": [
        "doc = nlp(\"Plan a 3-day trip for 2 people from Washington to Greensboro from November 19th to November 21st, 2024, with a budget of $1,100. Include attending Arts & Theatre events. There are no additional local constraints.\")"
      ],
      "metadata": {
        "id": "ty965omwug5B"
      },
      "execution_count": 5,
      "outputs": []
    },
    {
      "cell_type": "code",
      "source": [
        "doc.ents"
      ],
      "metadata": {
        "colab": {
          "base_uri": "https://localhost:8080/"
        },
        "id": "wv9n4ccnu16N",
        "outputId": "be1b64db-b3c7-4a8e-83e0-1eb7ada09117"
      },
      "execution_count": 6,
      "outputs": [
        {
          "output_type": "execute_result",
          "data": {
            "text/plain": [
              "(3-day,\n",
              " 2,\n",
              " Washington,\n",
              " Greensboro,\n",
              " November 19th to November 21st, 2024,\n",
              " 1,100,\n",
              " Arts & Theatre)"
            ]
          },
          "metadata": {},
          "execution_count": 6
        }
      ]
    },
    {
      "cell_type": "code",
      "source": [
        "type(doc)"
      ],
      "metadata": {
        "colab": {
          "base_uri": "https://localhost:8080/"
        },
        "id": "HjE69Ri4u4fr",
        "outputId": "5e7e14f4-20a0-44af-d48e-8918ef6c2254"
      },
      "execution_count": 7,
      "outputs": [
        {
          "output_type": "execute_result",
          "data": {
            "text/plain": [
              "spacy.tokens.doc.Doc"
            ]
          },
          "metadata": {},
          "execution_count": 7
        }
      ]
    },
    {
      "cell_type": "code",
      "source": [
        "doc.ents"
      ],
      "metadata": {
        "colab": {
          "base_uri": "https://localhost:8080/"
        },
        "id": "QTDRekihvEDr",
        "outputId": "e4401e42-aa93-4685-f6ce-dbf24279fecb"
      },
      "execution_count": 8,
      "outputs": [
        {
          "output_type": "execute_result",
          "data": {
            "text/plain": [
              "(3-day,\n",
              " 2,\n",
              " Washington,\n",
              " Greensboro,\n",
              " November 19th to November 21st, 2024,\n",
              " 1,100,\n",
              " Arts & Theatre)"
            ]
          },
          "metadata": {},
          "execution_count": 8
        }
      ]
    },
    {
      "cell_type": "code",
      "source": [
        "doc.ents[0], type(doc.ents[0])"
      ],
      "metadata": {
        "colab": {
          "base_uri": "https://localhost:8080/"
        },
        "id": "-1Ztxb_VvKad",
        "outputId": "479aae6d-c885-4e2e-b98c-6241d1ecc651"
      },
      "execution_count": 10,
      "outputs": [
        {
          "output_type": "execute_result",
          "data": {
            "text/plain": [
              "(3-day, spacy.tokens.span.Span)"
            ]
          },
          "metadata": {},
          "execution_count": 10
        }
      ]
    },
    {
      "cell_type": "code",
      "source": [
        "from spacy import displacy\n",
        "displacy.render(doc, style=\"ent\", jupyter=True)"
      ],
      "metadata": {
        "colab": {
          "base_uri": "https://localhost:8080/",
          "height": 87
        },
        "id": "N79RhhTgvX1u",
        "outputId": "0e025c93-8044-4041-8946-d0cfa454b12b"
      },
      "execution_count": 11,
      "outputs": [
        {
          "output_type": "display_data",
          "data": {
            "text/plain": [
              "<IPython.core.display.HTML object>"
            ],
            "text/html": [
              "<span class=\"tex2jax_ignore\"><div class=\"entities\" style=\"line-height: 2.5; direction: ltr\">Plan a \n",
              "<mark class=\"entity\" style=\"background: #bfe1d9; padding: 0.45em 0.6em; margin: 0 0.25em; line-height: 1; border-radius: 0.35em;\">\n",
              "    3-day\n",
              "    <span style=\"font-size: 0.8em; font-weight: bold; line-height: 1; border-radius: 0.35em; vertical-align: middle; margin-left: 0.5rem\">DATE</span>\n",
              "</mark>\n",
              " trip for \n",
              "<mark class=\"entity\" style=\"background: #e4e7d2; padding: 0.45em 0.6em; margin: 0 0.25em; line-height: 1; border-radius: 0.35em;\">\n",
              "    2\n",
              "    <span style=\"font-size: 0.8em; font-weight: bold; line-height: 1; border-radius: 0.35em; vertical-align: middle; margin-left: 0.5rem\">CARDINAL</span>\n",
              "</mark>\n",
              " people from \n",
              "<mark class=\"entity\" style=\"background: #feca74; padding: 0.45em 0.6em; margin: 0 0.25em; line-height: 1; border-radius: 0.35em;\">\n",
              "    Washington\n",
              "    <span style=\"font-size: 0.8em; font-weight: bold; line-height: 1; border-radius: 0.35em; vertical-align: middle; margin-left: 0.5rem\">GPE</span>\n",
              "</mark>\n",
              " to \n",
              "<mark class=\"entity\" style=\"background: #feca74; padding: 0.45em 0.6em; margin: 0 0.25em; line-height: 1; border-radius: 0.35em;\">\n",
              "    Greensboro\n",
              "    <span style=\"font-size: 0.8em; font-weight: bold; line-height: 1; border-radius: 0.35em; vertical-align: middle; margin-left: 0.5rem\">GPE</span>\n",
              "</mark>\n",
              " from \n",
              "<mark class=\"entity\" style=\"background: #bfe1d9; padding: 0.45em 0.6em; margin: 0 0.25em; line-height: 1; border-radius: 0.35em;\">\n",
              "    November 19th to November 21st, 2024\n",
              "    <span style=\"font-size: 0.8em; font-weight: bold; line-height: 1; border-radius: 0.35em; vertical-align: middle; margin-left: 0.5rem\">DATE</span>\n",
              "</mark>\n",
              ", with a budget of $\n",
              "<mark class=\"entity\" style=\"background: #e4e7d2; padding: 0.45em 0.6em; margin: 0 0.25em; line-height: 1; border-radius: 0.35em;\">\n",
              "    1,100\n",
              "    <span style=\"font-size: 0.8em; font-weight: bold; line-height: 1; border-radius: 0.35em; vertical-align: middle; margin-left: 0.5rem\">MONEY</span>\n",
              "</mark>\n",
              ". Include attending \n",
              "<mark class=\"entity\" style=\"background: #7aecec; padding: 0.45em 0.6em; margin: 0 0.25em; line-height: 1; border-radius: 0.35em;\">\n",
              "    Arts &amp; Theatre\n",
              "    <span style=\"font-size: 0.8em; font-weight: bold; line-height: 1; border-radius: 0.35em; vertical-align: middle; margin-left: 0.5rem\">ORG</span>\n",
              "</mark>\n",
              " events. There are no additional local constraints.</div></span>"
            ]
          },
          "metadata": {}
        }
      ]
    },
    {
      "cell_type": "code",
      "source": [
        "import json\n",
        "\n",
        "# Open and read the JSON file\n",
        "with open('annotations11.json', 'r') as file:\n",
        "    data = json.load(file)\n",
        "\n",
        "# Print the loaded data\n",
        "print(data)\n"
      ],
      "metadata": {
        "colab": {
          "base_uri": "https://localhost:8080/"
        },
        "id": "cxo5opuNvjfG",
        "outputId": "895aeec5-450c-4268-8736-6a21f26ac430"
      },
      "execution_count": 17,
      "outputs": [
        {
          "output_type": "stream",
          "name": "stdout",
          "text": [
            "{'classes': ['ORG', 'DEST', 'DAYS', 'VISITING_CITY_NUMBER', 'DATE', 'PEOPLE_NUMBER', 'LOCAL_CONSTRAINT', 'HOUSERULE', 'CUISINE', 'ROOM TYPE', 'TRANSPORTATION', 'EVENT', 'ATTRACTION', 'BUDGET', 'QUERY', 'LEVEL'], 'annotations': [['Plan a 3-day trip for 2 people from Washington to Greensboro from November 19th to November 21st, 2024, with a budget of $1,100. Include attending Arts & Theatre events. There are no additional local constraints.', {'entities': [[7, 12, 'DAYS'], [22, 30, 'PEOPLE_NUMBER'], [36, 60, 'VISITING_CITY_NUMBER'], [66, 102, 'DATE'], [121, 128, 'BUDGET'], [147, 169, 'ATTRACTION'], [180, 211, 'LOCAL_CONSTRAINT']]}]]}\n"
          ]
        }
      ]
    },
    {
      "cell_type": "code",
      "source": [
        "data['classes'][0]"
      ],
      "metadata": {
        "colab": {
          "base_uri": "https://localhost:8080/",
          "height": 36
        },
        "id": "umpcVe1hzihX",
        "outputId": "bf8663bf-6769-443c-9f58-6e782bc25219"
      },
      "execution_count": 21,
      "outputs": [
        {
          "output_type": "execute_result",
          "data": {
            "text/plain": [
              "'ORG'"
            ],
            "application/vnd.google.colaboratory.intrinsic+json": {
              "type": "string"
            }
          },
          "metadata": {},
          "execution_count": 21
        }
      ]
    },
    {
      "cell_type": "code",
      "source": [
        "data['classes']"
      ],
      "metadata": {
        "colab": {
          "base_uri": "https://localhost:8080/"
        },
        "id": "ci-aPWmwz2Az",
        "outputId": "a3c8239a-ce28-49b8-9b92-4cec3c9157f7"
      },
      "execution_count": 23,
      "outputs": [
        {
          "output_type": "execute_result",
          "data": {
            "text/plain": [
              "['ORG',\n",
              " 'DEST',\n",
              " 'DAYS',\n",
              " 'VISITING_CITY_NUMBER',\n",
              " 'DATE',\n",
              " 'PEOPLE_NUMBER',\n",
              " 'LOCAL_CONSTRAINT',\n",
              " 'HOUSERULE',\n",
              " 'CUISINE',\n",
              " 'ROOM TYPE',\n",
              " 'TRANSPORTATION',\n",
              " 'EVENT',\n",
              " 'ATTRACTION',\n",
              " 'BUDGET',\n",
              " 'QUERY',\n",
              " 'LEVEL']"
            ]
          },
          "metadata": {},
          "execution_count": 23
        }
      ]
    },
    {
      "cell_type": "code",
      "source": [
        "data['annotations']"
      ],
      "metadata": {
        "colab": {
          "base_uri": "https://localhost:8080/"
        },
        "id": "bdh_-ip-z7ku",
        "outputId": "d14a63ac-ca65-4631-d364-55794b587d8d"
      },
      "execution_count": 24,
      "outputs": [
        {
          "output_type": "execute_result",
          "data": {
            "text/plain": [
              "[['Plan a 3-day trip for 2 people from Washington to Greensboro from November 19th to November 21st, 2024, with a budget of $1,100. Include attending Arts & Theatre events. There are no additional local constraints.',\n",
              "  {'entities': [[7, 12, 'DAYS'],\n",
              "    [22, 30, 'PEOPLE_NUMBER'],\n",
              "    [36, 60, 'VISITING_CITY_NUMBER'],\n",
              "    [66, 102, 'DATE'],\n",
              "    [121, 128, 'BUDGET'],\n",
              "    [147, 169, 'ATTRACTION'],\n",
              "    [180, 211, 'LOCAL_CONSTRAINT']]}]]"
            ]
          },
          "metadata": {},
          "execution_count": 24
        }
      ]
    },
    {
      "cell_type": "code",
      "source": [
        "import spacy\n",
        "from spacy.training.example import Example\n",
        "\n",
        "# Create a blank English model\n",
        "nlp = spacy.blank(\"en\")\n",
        "\n",
        "# Create the NER component and add it to the pipeline\n",
        "if \"ner\" not in nlp.pipe_names:\n",
        "    ner = nlp.create_pipe(\"ner\")\n",
        "    nlp.add_pipe(\"ner\", last=True)\n",
        "else:\n",
        "    ner = nlp.get_pipe(\"ner\")\n",
        "\n",
        "# Add labels to the NER component\n",
        "for label in [\"ORG\", \"DEST\", \"DAYS\", \"VISITING_CITY_NUMBER\", \"DATE\", \"PEOPLE_NUMBER\", \"LOCAL_CONSTRAINT\", \"HOUSERULE\", \"CUISINE\", \"ROOM TYPE\", \"TRANSPORTATION\", \"EVENT\", \"ATTRACTION\", \"BUDGET\", \"QUERY\", \"LEVEL\"]:\n",
        "    ner.add_label(label)\n",
        "\n",
        "# Prepare your training data\n",
        "TRAIN_DATA = [\n",
        "    (\"Plan a 3-day trip for 2 people from Washington to Greensboro from November 19th to November 21st, 2024, with a budget of $1,100. Include attending Arts & Theatre events. There are no additional local constraints.\",\n",
        "     {\"entities\": [(7, 12, 'DAYS'), (22, 30, 'PEOPLE_NUMBER'), (36, 60, 'VISITING_CITY_NUMBER'), (66, 102, 'DATE'), (121, 128, 'BUDGET'), (147, 169, 'ATTRACTION'), (180, 211, 'LOCAL_CONSTRAINT')]})\n",
        "]\n",
        "\n",
        "# Start the training\n",
        "optimizer = nlp.begin_training()\n",
        "\n",
        "for epoch in range(10):  # Adjust the number of epochs as needed\n",
        "    for text, annotations in TRAIN_DATA:\n",
        "        doc = nlp.make_doc(text)\n",
        "        example = Example.from_dict(doc, annotations)\n",
        "        nlp.update([example], sgd=optimizer)\n",
        "\n",
        "# Save the trained model\n",
        "nlp.to_disk(\"ner_model\")\n",
        "\n",
        "# Test the trained model\n",
        "test_text = \"Plan a 3-day trip for 2 people from Washington to Greensboro from November 19th to November 21st, 2024, with a budget of $1,100. Include attending Arts & Theatre events. There are no additional local constraints.\"\n",
        "doc = nlp(test_text)\n",
        "for ent in doc.ents:\n",
        "    print(ent.text, ent.label_)\n"
      ],
      "metadata": {
        "colab": {
          "base_uri": "https://localhost:8080/"
        },
        "id": "z3v7Ipeq0f0K",
        "outputId": "5a07d709-6630-4e4f-aae0-4cef1dffd763"
      },
      "execution_count": 28,
      "outputs": [
        {
          "output_type": "stream",
          "name": "stdout",
          "text": [
            "Arts & Theatre events. There are no additional local constraints. ATTRACTION\n"
          ]
        }
      ]
    },
    {
      "cell_type": "code",
      "source": [
        "import json\n",
        "\n",
        "# Load your JSON data\n",
        "with open('annotations11.json', 'r') as file:\n",
        "    data = json.load(file)\n",
        "# Analyze the distribution of entities\n",
        "entity_counts = {}\n",
        "for _, annot in data['annotations']:\n",
        "    for start, end, label in annot['entities']:\n",
        "        entity_counts[label] = entity_counts.get(label, 0) + 1\n",
        "\n",
        "print(\"Entity Distribution:\", entity_counts)\n",
        "\n",
        "# Check for annotation quality (basic check)\n",
        "for text, annot in data['annotations']:\n",
        "    for start, end, label in annot['entities']:\n",
        "        if not text[start:end]:\n",
        "            print(f\"Invalid annotation in text: '{text}' for entity {label} at ({start}, {end})\")\n"
      ],
      "metadata": {
        "colab": {
          "base_uri": "https://localhost:8080/"
        },
        "id": "Dhib7q821nLd",
        "outputId": "4c66694f-ac81-4985-b3d2-677df8a1b6cf"
      },
      "execution_count": 30,
      "outputs": [
        {
          "output_type": "stream",
          "name": "stdout",
          "text": [
            "Entity Distribution: {'DAYS': 1, 'PEOPLE_NUMBER': 1, 'VISITING_CITY_NUMBER': 1, 'DATE': 1, 'BUDGET': 1, 'ATTRACTION': 1, 'LOCAL_CONSTRAINT': 1}\n"
          ]
        }
      ]
    },
    {
      "cell_type": "code",
      "source": [
        "doc = nlp(\"Plan a 3-day trip for 3 people from Denver to Madison from November 18th to November 20th, 2024, with a budget of $2,500. Accommodations should include a private room. There are no additional constraints.\")"
      ],
      "metadata": {
        "id": "5YYV7XIu2Btu"
      },
      "execution_count": 31,
      "outputs": []
    },
    {
      "cell_type": "code",
      "source": [
        "doc.ents"
      ],
      "metadata": {
        "colab": {
          "base_uri": "https://localhost:8080/"
        },
        "id": "v82CHSxu5sAQ",
        "outputId": "e37d8b32-117c-438b-e58d-a9086e10302a"
      },
      "execution_count": 32,
      "outputs": [
        {
          "output_type": "execute_result",
          "data": {
            "text/plain": [
              "()"
            ]
          },
          "metadata": {},
          "execution_count": 32
        }
      ]
    },
    {
      "cell_type": "code",
      "source": [
        "type(doc)"
      ],
      "metadata": {
        "colab": {
          "base_uri": "https://localhost:8080/"
        },
        "id": "oXeGbi9z5t22",
        "outputId": "31a5117e-820c-46c8-c681-643117903708"
      },
      "execution_count": 33,
      "outputs": [
        {
          "output_type": "execute_result",
          "data": {
            "text/plain": [
              "spacy.tokens.doc.Doc"
            ]
          },
          "metadata": {},
          "execution_count": 33
        }
      ]
    },
    {
      "cell_type": "code",
      "source": [
        "doc.ents"
      ],
      "metadata": {
        "colab": {
          "base_uri": "https://localhost:8080/"
        },
        "id": "-B0RHCvx53QS",
        "outputId": "dd0d0477-71c6-40fa-e166-e20dbd417690"
      },
      "execution_count": 34,
      "outputs": [
        {
          "output_type": "execute_result",
          "data": {
            "text/plain": [
              "()"
            ]
          },
          "metadata": {},
          "execution_count": 34
        }
      ]
    },
    {
      "cell_type": "code",
      "source": [
        "nlp = spacy.load(\"en_core_web_md\")\n",
        "nlp"
      ],
      "metadata": {
        "colab": {
          "base_uri": "https://localhost:8080/"
        },
        "id": "KyeDmvwG559F",
        "outputId": "cf2b1b25-b9e4-403e-8c06-74c1455068fd"
      },
      "execution_count": 35,
      "outputs": [
        {
          "output_type": "execute_result",
          "data": {
            "text/plain": [
              "<spacy.lang.en.English at 0x7fc77b7f6380>"
            ]
          },
          "metadata": {},
          "execution_count": 35
        }
      ]
    },
    {
      "cell_type": "code",
      "source": [
        "doc = nlp(\"Plan a 3-day trip for 3 people from Denver to Madison from November 18th to November 20th, 2024, with a budget of $2,500. Accommodations should include a private room. There are no additional constraints.\")"
      ],
      "metadata": {
        "id": "5Qji6mjk6sB5"
      },
      "execution_count": 36,
      "outputs": []
    },
    {
      "cell_type": "code",
      "source": [
        "doc.ents"
      ],
      "metadata": {
        "colab": {
          "base_uri": "https://localhost:8080/"
        },
        "id": "8eYU7FW861oe",
        "outputId": "df251948-e3f2-441b-870b-4c00e782f069"
      },
      "execution_count": 37,
      "outputs": [
        {
          "output_type": "execute_result",
          "data": {
            "text/plain": [
              "(3-day, 3, Denver, Madison, November 18th to November 20th,, 2024, 2,500)"
            ]
          },
          "metadata": {},
          "execution_count": 37
        }
      ]
    },
    {
      "cell_type": "code",
      "source": [
        "doc.ents[0], type(doc.ents[0])"
      ],
      "metadata": {
        "colab": {
          "base_uri": "https://localhost:8080/"
        },
        "id": "41yROgsN63qR",
        "outputId": "cf964d7d-3e7d-467c-affa-d0d328695e56"
      },
      "execution_count": 38,
      "outputs": [
        {
          "output_type": "execute_result",
          "data": {
            "text/plain": [
              "(3-day, spacy.tokens.span.Span)"
            ]
          },
          "metadata": {},
          "execution_count": 38
        }
      ]
    },
    {
      "cell_type": "code",
      "source": [
        "from spacy import displacy\n",
        "displacy.render(doc, style=\"ent\", jupyter=True)"
      ],
      "metadata": {
        "colab": {
          "base_uri": "https://localhost:8080/",
          "height": 87
        },
        "id": "jOtKT7Wo6_iO",
        "outputId": "27c8fd5c-e0fa-484f-94ee-4cb3fd3e5a73"
      },
      "execution_count": 39,
      "outputs": [
        {
          "output_type": "display_data",
          "data": {
            "text/plain": [
              "<IPython.core.display.HTML object>"
            ],
            "text/html": [
              "<span class=\"tex2jax_ignore\"><div class=\"entities\" style=\"line-height: 2.5; direction: ltr\">Plan a \n",
              "<mark class=\"entity\" style=\"background: #bfe1d9; padding: 0.45em 0.6em; margin: 0 0.25em; line-height: 1; border-radius: 0.35em;\">\n",
              "    3-day\n",
              "    <span style=\"font-size: 0.8em; font-weight: bold; line-height: 1; border-radius: 0.35em; vertical-align: middle; margin-left: 0.5rem\">DATE</span>\n",
              "</mark>\n",
              " trip for \n",
              "<mark class=\"entity\" style=\"background: #e4e7d2; padding: 0.45em 0.6em; margin: 0 0.25em; line-height: 1; border-radius: 0.35em;\">\n",
              "    3\n",
              "    <span style=\"font-size: 0.8em; font-weight: bold; line-height: 1; border-radius: 0.35em; vertical-align: middle; margin-left: 0.5rem\">CARDINAL</span>\n",
              "</mark>\n",
              " people from \n",
              "<mark class=\"entity\" style=\"background: #feca74; padding: 0.45em 0.6em; margin: 0 0.25em; line-height: 1; border-radius: 0.35em;\">\n",
              "    Denver\n",
              "    <span style=\"font-size: 0.8em; font-weight: bold; line-height: 1; border-radius: 0.35em; vertical-align: middle; margin-left: 0.5rem\">GPE</span>\n",
              "</mark>\n",
              " to \n",
              "<mark class=\"entity\" style=\"background: #feca74; padding: 0.45em 0.6em; margin: 0 0.25em; line-height: 1; border-radius: 0.35em;\">\n",
              "    Madison\n",
              "    <span style=\"font-size: 0.8em; font-weight: bold; line-height: 1; border-radius: 0.35em; vertical-align: middle; margin-left: 0.5rem\">GPE</span>\n",
              "</mark>\n",
              " from \n",
              "<mark class=\"entity\" style=\"background: #bfe1d9; padding: 0.45em 0.6em; margin: 0 0.25em; line-height: 1; border-radius: 0.35em;\">\n",
              "    November 18th to November 20th,\n",
              "    <span style=\"font-size: 0.8em; font-weight: bold; line-height: 1; border-radius: 0.35em; vertical-align: middle; margin-left: 0.5rem\">DATE</span>\n",
              "</mark>\n",
              " \n",
              "<mark class=\"entity\" style=\"background: #bfe1d9; padding: 0.45em 0.6em; margin: 0 0.25em; line-height: 1; border-radius: 0.35em;\">\n",
              "    2024\n",
              "    <span style=\"font-size: 0.8em; font-weight: bold; line-height: 1; border-radius: 0.35em; vertical-align: middle; margin-left: 0.5rem\">DATE</span>\n",
              "</mark>\n",
              ", with a budget of $\n",
              "<mark class=\"entity\" style=\"background: #e4e7d2; padding: 0.45em 0.6em; margin: 0 0.25em; line-height: 1; border-radius: 0.35em;\">\n",
              "    2,500\n",
              "    <span style=\"font-size: 0.8em; font-weight: bold; line-height: 1; border-radius: 0.35em; vertical-align: middle; margin-left: 0.5rem\">MONEY</span>\n",
              "</mark>\n",
              ". Accommodations should include a private room. There are no additional constraints.</div></span>"
            ]
          },
          "metadata": {}
        }
      ]
    },
    {
      "cell_type": "code",
      "source": [
        "import json\n",
        "\n",
        "# Open and read the JSON file\n",
        "with open('annotations12.json', 'r') as file:\n",
        "    data = json.load(file)\n",
        "\n",
        "# Print the loaded data\n",
        "print(data)\n"
      ],
      "metadata": {
        "colab": {
          "base_uri": "https://localhost:8080/"
        },
        "id": "NDgv5yEw7HZ3",
        "outputId": "f0b11aad-3271-44d6-be0d-9e6ddaffac46"
      },
      "execution_count": 40,
      "outputs": [
        {
          "output_type": "stream",
          "name": "stdout",
          "text": [
            "{'classes': ['ORG', 'DEST', 'DAYS', 'VISITING_CITY_NUMBER', 'DATE', 'PEOPLE_NUMBER', 'LOCAL_CONSTRAINT', 'HOUSERULE', 'CUISINE', 'ROOM TYPE', 'TRANSPORTATION', 'EVENT', 'ATTRACTION', 'BUDGET', 'QUERY', 'LEVEL'], 'annotations': [['Plan a 3-day trip for 3 people from Denver to Madison from November 18th to November 20th, 2024, with a budget of $2,500. Accommodations should include a private room. There are no additional constraints.', {'entities': [[7, 12, 'DAYS'], [22, 30, 'PEOPLE_NUMBER'], [36, 42, 'ORG'], [46, 53, 'DEST'], [59, 95, 'DATE'], [114, 121, 'BUDGET'], [154, 167, 'ROOM TYPE'], [178, 203, 'LOCAL_CONSTRAINT']]}]]}\n"
          ]
        }
      ]
    },
    {
      "cell_type": "code",
      "source": [
        "data['classes']"
      ],
      "metadata": {
        "colab": {
          "base_uri": "https://localhost:8080/"
        },
        "id": "ACQg5-M47VCS",
        "outputId": "011cb84e-1455-4567-ccf8-a9634946a999"
      },
      "execution_count": 41,
      "outputs": [
        {
          "output_type": "execute_result",
          "data": {
            "text/plain": [
              "['ORG',\n",
              " 'DEST',\n",
              " 'DAYS',\n",
              " 'VISITING_CITY_NUMBER',\n",
              " 'DATE',\n",
              " 'PEOPLE_NUMBER',\n",
              " 'LOCAL_CONSTRAINT',\n",
              " 'HOUSERULE',\n",
              " 'CUISINE',\n",
              " 'ROOM TYPE',\n",
              " 'TRANSPORTATION',\n",
              " 'EVENT',\n",
              " 'ATTRACTION',\n",
              " 'BUDGET',\n",
              " 'QUERY',\n",
              " 'LEVEL']"
            ]
          },
          "metadata": {},
          "execution_count": 41
        }
      ]
    },
    {
      "cell_type": "code",
      "source": [
        "data['annotations']"
      ],
      "metadata": {
        "colab": {
          "base_uri": "https://localhost:8080/"
        },
        "id": "iTlwMqN77bI2",
        "outputId": "1fefa191-61b3-4a3f-e9c1-1e9a18f809ed"
      },
      "execution_count": 42,
      "outputs": [
        {
          "output_type": "execute_result",
          "data": {
            "text/plain": [
              "[['Plan a 3-day trip for 3 people from Denver to Madison from November 18th to November 20th, 2024, with a budget of $2,500. Accommodations should include a private room. There are no additional constraints.',\n",
              "  {'entities': [[7, 12, 'DAYS'],\n",
              "    [22, 30, 'PEOPLE_NUMBER'],\n",
              "    [36, 42, 'ORG'],\n",
              "    [46, 53, 'DEST'],\n",
              "    [59, 95, 'DATE'],\n",
              "    [114, 121, 'BUDGET'],\n",
              "    [154, 167, 'ROOM TYPE'],\n",
              "    [178, 203, 'LOCAL_CONSTRAINT']]}]]"
            ]
          },
          "metadata": {},
          "execution_count": 42
        }
      ]
    },
    {
      "cell_type": "code",
      "source": [
        "import spacy\n",
        "from spacy.training.example import Example\n",
        "\n",
        "# Create a blank English model\n",
        "nlp = spacy.blank(\"en\")\n",
        "\n",
        "# Create the NER component and add it to the pipeline\n",
        "if \"ner\" not in nlp.pipe_names:\n",
        "    ner = nlp.create_pipe(\"ner\")\n",
        "    nlp.add_pipe(\"ner\", last=True)\n",
        "else:\n",
        "    ner = nlp.get_pipe(\"ner\")\n",
        "\n",
        "# Add labels to the NER component\n",
        "for label in [\"ORG\", \"DEST\", \"DAYS\", \"VISITING_CITY_NUMBER\", \"DATE\", \"PEOPLE_NUMBER\", \"LOCAL_CONSTRAINT\", \"HOUSERULE\", \"CUISINE\", \"ROOM TYPE\", \"TRANSPORTATION\", \"EVENT\", \"ATTRACTION\", \"BUDGET\", \"QUERY\", \"LEVEL\"]:\n",
        "    ner.add_label(label)\n",
        "\n",
        "# Prepare your training data\n",
        "TRAIN_DATA = [\n",
        "    (\"Plan a 3-day trip for 3 people from Denver to Madison from November 18th to November 20th, 2024, with a budget of $2,500. Accommodations should include a private room. There are no additional constraints.\",\n",
        "     {\"entities\": [\n",
        "         (7, 12, 'DAYS'),\n",
        "         (22, 30, 'PEOPLE_NUMBER'),\n",
        "         (36, 58, 'VISITING_CITY_NUMBER'),\n",
        "         (64, 100, 'DATE'),\n",
        "         (119, 126, 'BUDGET'),\n",
        "         (148, 160, 'HOUSERULE'),\n",
        "         (178, 210, 'LOCAL_CONSTRAINT')\n",
        "     ]})\n",
        "]\n",
        "\n",
        "# Start the training\n",
        "optimizer = nlp.begin_training()\n",
        "\n",
        "for epoch in range(10):  # Adjust the number of epochs as needed\n",
        "    for text, annotations in TRAIN_DATA:\n",
        "        doc = nlp.make_doc(text)\n",
        "        example = Example.from_dict(doc, annotations)\n",
        "        nlp.update([example], sgd=optimizer)\n",
        "\n",
        "# Save the trained model\n",
        "nlp.to_disk(\"ner_model\")\n",
        "\n",
        "# Test the trained model\n",
        "test_text = \"Plan a 3-day trip for 3 people from Denver to Madison from November 18th to November 20th, 2024, with a budget of $2,500. Accommodations should include a private room. There are no additional constraints.\"\n",
        "doc = nlp(test_text)\n",
        "for ent in doc.ents:\n",
        "    print(ent.text, ent.label_)\n"
      ],
      "metadata": {
        "colab": {
          "base_uri": "https://localhost:8080/"
        },
        "id": "uYFb2nUj7hyX",
        "outputId": "3fc3c128-37be-4f90-9efd-f090430bb117"
      },
      "execution_count": 1,
      "outputs": [
        {
          "output_type": "stream",
          "name": "stderr",
          "text": [
            "/usr/local/lib/python3.10/dist-packages/spacy/training/iob_utils.py:149: UserWarning: [W030] Some entities could not be aligned in the text \"Plan a 3-day trip for 3 people from Denver to Madi...\" with entities \"[(7, 12, 'DAYS'), (22, 30, 'PEOPLE_NUMBER'), (36, ...\". Use `spacy.training.offsets_to_biluo_tags(nlp.make_doc(text), entities)` to check the alignment. Misaligned entities ('-') will be ignored during training.\n",
            "  warnings.warn(\n"
          ]
        }
      ]
    },
    {
      "cell_type": "code",
      "source": [
        "import json\n",
        "\n",
        "# Load your JSON data\n",
        "with open('annotations12.json', 'r') as file:\n",
        "    data = json.load(file)\n",
        "# Analyze the distribution of entities\n",
        "entity_counts = {}\n",
        "for _, annot in data['annotations']:\n",
        "    for start, end, label in annot['entities']:\n",
        "        entity_counts[label] = entity_counts.get(label, 0) + 1\n",
        "\n",
        "print(\"Entity Distribution:\", entity_counts)\n",
        "\n",
        "# Check for annotation quality (basic check)\n",
        "for text, annot in data['annotations']:\n",
        "    for start, end, label in annot['entities']:\n",
        "        if not text[start:end]:\n",
        "            print(f\"Invalid annotation in text: '{text}' for entity {label} at ({start}, {end})\")"
      ],
      "metadata": {
        "colab": {
          "base_uri": "https://localhost:8080/"
        },
        "id": "_VXxmv4UB8ai",
        "outputId": "c1db52a6-ff9e-46a7-b4c3-909196fc1c57"
      },
      "execution_count": 2,
      "outputs": [
        {
          "output_type": "stream",
          "name": "stdout",
          "text": [
            "Entity Distribution: {'DAYS': 1, 'PEOPLE_NUMBER': 1, 'ORG': 1, 'DEST': 1, 'DATE': 1, 'BUDGET': 1, 'ROOM TYPE': 1, 'LOCAL_CONSTRAINT': 1}\n"
          ]
        }
      ]
    },
    {
      "cell_type": "code",
      "source": [
        "import spacy\n",
        "from spacy.training.example import Example\n",
        "\n",
        "# Create a blank English model\n",
        "nlp = spacy.blank(\"en\")\n",
        "\n",
        "# Create the NER component and add it to the pipeline\n",
        "if \"ner\" not in nlp.pipe_names:\n",
        "    ner = nlp.create_pipe(\"ner\")\n",
        "    nlp.add_pipe(\"ner\", last=True)\n",
        "else:\n",
        "    ner = nlp.get_pipe(\"ner\")\n",
        "\n",
        "# Add labels to the NER component\n",
        "for label in [\"ORG\", \"DEST\", \"DAYS\", \"VISITING_CITY_NUMBER\", \"DATE\", \"PEOPLE_NUMBER\", \"LOCAL_CONSTRAINT\", \"HOUSERULE\", \"CUISINE\", \"ROOM TYPE\", \"TRANSPORTATION\", \"EVENT\", \"ATTRACTION\", \"BUDGET\", \"QUERY\", \"LEVEL\"]:\n",
        "    ner.add_label(label)\n",
        "\n",
        "# Prepare your training data\n",
        "TRAIN_DATA = [\n",
        "    (\"Plan a 3-day trip for 3 people from Denver to Madison from November 18th to November 20th, 2024, with a budget of $2,500. Accommodations should include a private room. There are no additional constraints.\",\n",
        "     {\"entities\": [\n",
        "         (7, 12, 'DAYS'),\n",
        "         (22, 30, 'PEOPLE_NUMBER'),\n",
        "         (36, 58, 'VISITING_CITY_NUMBER'),\n",
        "         (64, 100, 'DATE'),\n",
        "         (119, 126, 'BUDGET'),\n",
        "         (148, 160, 'HOUSERULE'),\n",
        "         (178, 210, 'LOCAL_CONSTRAINT')\n",
        "     ]})\n",
        "]\n",
        "\n",
        "# Start the training\n",
        "optimizer = nlp.begin_training()\n",
        "\n",
        "for epoch in range(10):  # Adjust the number of epochs as needed\n",
        "    for text, annotations in TRAIN_DATA:\n",
        "        doc = nlp.make_doc(text)\n",
        "        example = Example.from_dict(doc, annotations)\n",
        "        nlp.update([example], sgd=optimizer)\n",
        "\n",
        "# Save the trained model\n",
        "nlp.to_disk(\"ner_model\")\n",
        "\n",
        "# Test the trained model\n",
        "test_text = \"Plan a 3-day trip for 3 people from Denver to Madison from November 18th to November 20th, 2024, with a budget of $2,500. Accommodations should include a private room. There are no additional constraints.\"\n",
        "doc = nlp(test_text)\n",
        "for ent in doc.ents:\n",
        "    print(ent.text, ent.label_)\n"
      ],
      "metadata": {
        "id": "xe1nnW7wCTDK"
      },
      "execution_count": 3,
      "outputs": []
    },
    {
      "cell_type": "code",
      "source": [
        "import spacy\n",
        "\n",
        "# Load the trained model\n",
        "nlp = spacy.load(\"ner_model\")\n",
        "\n",
        "# Test the model\n",
        "test_text = \"Plan a 3-day trip for 3 people from Denver to Madison from November 18th to November 20th, 2024, with a budget of $2,500. Accommodations should include a private room. There are no additional constraints.\"\n",
        "doc = nlp(test_text)\n",
        "for ent in doc.ents:\n",
        "    print(ent.text, ent.label_)\n"
      ],
      "metadata": {
        "id": "zpOBt4j7ClhL"
      },
      "execution_count": 4,
      "outputs": []
    },
    {
      "cell_type": "code",
      "source": [
        "new_test_text = \"Schedule a 5-day business trip for 4 colleagues to San Francisco from June 1st to June 5th, 2025, with a budget of $3,000. Ensure there is a conference room available. No special requirements.\"\n",
        "doc = nlp(new_test_text)\n",
        "for ent in doc.ents:\n",
        "    print(ent.text, ent.label_)\n"
      ],
      "metadata": {
        "id": "bA1g5MbPC0wz"
      },
      "execution_count": 5,
      "outputs": []
    },
    {
      "cell_type": "code",
      "source": [],
      "metadata": {
        "id": "I3xxOeluDCqw"
      },
      "execution_count": null,
      "outputs": []
    }
  ],
  "metadata": {
    "kernelspec": {
      "display_name": "Python 3 (ipykernel)",
      "language": "python",
      "name": "python3"
    },
    "language_info": {
      "codemirror_mode": {
        "name": "ipython",
        "version": 3
      },
      "file_extension": ".py",
      "mimetype": "text/x-python",
      "name": "python",
      "nbconvert_exporter": "python",
      "pygments_lexer": "ipython3",
      "version": "3.10.11"
    },
    "colab": {
      "provenance": [],
      "include_colab_link": true
    }
  },
  "nbformat": 4,
  "nbformat_minor": 0
}